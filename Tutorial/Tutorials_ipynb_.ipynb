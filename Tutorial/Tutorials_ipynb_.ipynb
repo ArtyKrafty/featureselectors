{
  "nbformat": 4,
  "nbformat_minor": 0,
  "metadata": {
    "colab": {
      "name": "Full_Tutorials.ipynb\"\"",
      "provenance": [],
      "collapsed_sections": []
    },
    "kernelspec": {
      "name": "python3",
      "display_name": "Python 3"
    },
    "language_info": {
      "name": "python"
    }
  },
  "cells": [
    {
      "cell_type": "markdown",
      "metadata": {
        "id": "V16wanFlftL2"
      },
      "source": [
        "ML dataset for classification or regression tasks is comprised of features  of an observation in a problem domain and target\n",
        "\n",
        "The main goal of feature selection refers to techniques that select a subset of the most strong or \"gold\" features in a data. Fewer features can allow ML models to run more efficiently and be more effective and do not be misled by irrelevant input features. It is affect to quality"
      ]
    },
    {
      "cell_type": "markdown",
      "metadata": {
        "id": "6ZM-emrSg9Vp"
      },
      "source": [
        "For more efficiency, it is better to use the catboost model - works with NaN, works with categories. "
      ]
    },
    {
      "cell_type": "code",
      "metadata": {
        "id": "W7b8LpWa2kql"
      },
      "source": [
        "%%capture\n",
        "!pip install shap"
      ],
      "execution_count": null,
      "outputs": []
    },
    {
      "cell_type": "code",
      "metadata": {
        "id": "JwCWW_cy37P4"
      },
      "source": [
        "%%capture\n",
        "!pip install phik"
      ],
      "execution_count": null,
      "outputs": []
    },
    {
      "cell_type": "code",
      "metadata": {
        "id": "tWR-7CNUcpot"
      },
      "source": [
        "%%capture\n",
        "!pip install catboost "
      ],
      "execution_count": null,
      "outputs": []
    },
    {
      "cell_type": "markdown",
      "metadata": {
        "id": "Int5SQvRhG-O"
      },
      "source": [
        "And now, we can install our library:"
      ]
    },
    {
      "cell_type": "code",
      "metadata": {
        "id": "CRIrHMARcr63",
        "colab": {
          "base_uri": "https://localhost:8080/"
        },
        "outputId": "d339abda-ffcb-46ad-f3a2-b937cd2c79f0"
      },
      "source": [
        "%%capture\n",
        "!pip install SHFS"
      ],
      "execution_count": null,
      "outputs": [
        {
          "output_type": "stream",
          "name": "stdout",
          "text": [
            "Looking in indexes: https://test.pypi.org/simple/\n",
            "Requirement already satisfied: SHFS==1.0.3 in /usr/local/lib/python3.7/dist-packages (1.0.3)\n",
            "Requirement already satisfied: pandas in /usr/local/lib/python3.7/dist-packages (from SHFS==1.0.3) (1.1.5)\n",
            "Requirement already satisfied: scikit-learn==1.0.1 in /usr/local/lib/python3.7/dist-packages (from SHFS==1.0.3) (1.0.1)\n",
            "Requirement already satisfied: shap==0.40.0 in /usr/local/lib/python3.7/dist-packages (from SHFS==1.0.3) (0.40.0)\n",
            "Requirement already satisfied: numpy in /usr/local/lib/python3.7/dist-packages (from SHFS==1.0.3) (1.19.5)\n",
            "Requirement already satisfied: phik==0.12.0 in /usr/local/lib/python3.7/dist-packages (from SHFS==1.0.3) (0.12.0)\n",
            "Requirement already satisfied: matplotlib>=2.2.3 in /usr/local/lib/python3.7/dist-packages (from phik==0.12.0->SHFS==1.0.3) (3.2.2)\n",
            "Requirement already satisfied: joblib>=0.14.1 in /usr/local/lib/python3.7/dist-packages (from phik==0.12.0->SHFS==1.0.3) (1.1.0)\n",
            "Requirement already satisfied: scipy>=1.5.2 in /usr/local/lib/python3.7/dist-packages (from phik==0.12.0->SHFS==1.0.3) (1.7.2)\n",
            "Requirement already satisfied: threadpoolctl>=2.0.0 in /usr/local/lib/python3.7/dist-packages (from scikit-learn==1.0.1->SHFS==1.0.3) (3.0.0)\n",
            "Requirement already satisfied: slicer==0.0.7 in /usr/local/lib/python3.7/dist-packages (from shap==0.40.0->SHFS==1.0.3) (0.0.7)\n",
            "Requirement already satisfied: cloudpickle in /usr/local/lib/python3.7/dist-packages (from shap==0.40.0->SHFS==1.0.3) (1.3.0)\n",
            "Requirement already satisfied: tqdm>4.25.0 in /usr/local/lib/python3.7/dist-packages (from shap==0.40.0->SHFS==1.0.3) (4.62.3)\n",
            "Requirement already satisfied: packaging>20.9 in /usr/local/lib/python3.7/dist-packages (from shap==0.40.0->SHFS==1.0.3) (21.3)\n",
            "Requirement already satisfied: numba in /usr/local/lib/python3.7/dist-packages (from shap==0.40.0->SHFS==1.0.3) (0.51.2)\n",
            "Requirement already satisfied: kiwisolver>=1.0.1 in /usr/local/lib/python3.7/dist-packages (from matplotlib>=2.2.3->phik==0.12.0->SHFS==1.0.3) (1.3.2)\n",
            "Requirement already satisfied: pyparsing!=2.0.4,!=2.1.2,!=2.1.6,>=2.0.1 in /usr/local/lib/python3.7/dist-packages (from matplotlib>=2.2.3->phik==0.12.0->SHFS==1.0.3) (3.0.6)\n",
            "Requirement already satisfied: cycler>=0.10 in /usr/local/lib/python3.7/dist-packages (from matplotlib>=2.2.3->phik==0.12.0->SHFS==1.0.3) (0.11.0)\n",
            "Requirement already satisfied: python-dateutil>=2.1 in /usr/local/lib/python3.7/dist-packages (from matplotlib>=2.2.3->phik==0.12.0->SHFS==1.0.3) (2.8.2)\n",
            "Requirement already satisfied: pytz>=2017.2 in /usr/local/lib/python3.7/dist-packages (from pandas->SHFS==1.0.3) (2018.9)\n",
            "Requirement already satisfied: six>=1.5 in /usr/local/lib/python3.7/dist-packages (from python-dateutil>=2.1->matplotlib>=2.2.3->phik==0.12.0->SHFS==1.0.3) (1.15.0)\n",
            "Requirement already satisfied: setuptools in /usr/local/lib/python3.7/dist-packages (from numba->shap==0.40.0->SHFS==1.0.3) (57.4.0)\n",
            "Requirement already satisfied: llvmlite<0.35,>=0.34.0.dev0 in /usr/local/lib/python3.7/dist-packages (from numba->shap==0.40.0->SHFS==1.0.3) (0.34.0)\n"
          ]
        }
      ]
    },
    {
      "cell_type": "code",
      "metadata": {
        "id": "rIYvMfd7YgdM"
      },
      "source": [
        "import pandas as pd\n",
        "import numpy as np\n",
        "from catboost import CatBoostClassifier\n",
        "from sklearn.metrics import roc_auc_score\n",
        "from sklearn.model_selection import cross_validate\n",
        "from sklearn.base import BaseEstimator, TransformerMixin\n",
        "from sklearn.model_selection import train_test_split\n",
        "import SHFS\n",
        "from SHFS import FeatureSelectionClf\n",
        "from SHFS import DFwrapper\n",
        "import matplotlib.pyplot as plt\n",
        "import seaborn as sns\n",
        "sns.set_style('darkgrid')"
      ],
      "execution_count": null,
      "outputs": []
    },
    {
      "cell_type": "markdown",
      "metadata": {
        "id": "TGkEToyYhPW7"
      },
      "source": [
        "Check the version"
      ]
    },
    {
      "cell_type": "code",
      "metadata": {
        "colab": {
          "base_uri": "https://localhost:8080/"
        },
        "id": "2mZbODoSu-5n",
        "outputId": "b1fc7526-6111-45be-b8b7-9239c3bf94ee"
      },
      "source": [
        "print(SHFS.__version__)"
      ],
      "execution_count": null,
      "outputs": [
        {
          "output_type": "stream",
          "name": "stdout",
          "text": [
            "1.0.3\n"
          ]
        }
      ]
    },
    {
      "cell_type": "markdown",
      "metadata": {
        "id": "7zBW96iSw2vv"
      },
      "source": [
        "## Feature selectors"
      ]
    },
    {
      "cell_type": "markdown",
      "metadata": {
        "id": "AI6G8qIbhRpW"
      },
      "source": [
        "For tutorial, we will use a set of customer data from a bank. Target variable - client default"
      ]
    },
    {
      "cell_type": "code",
      "metadata": {
        "id": "_x_zj3XmYij0",
        "colab": {
          "base_uri": "https://localhost:8080/"
        },
        "outputId": "0a76fb30-6163-4e8a-f9b7-630a1ef4a44a"
      },
      "source": [
        "!gdown --id 11qA2_o3kwRyQhJrfeoJ-jE-uXojXjFpV"
      ],
      "execution_count": null,
      "outputs": [
        {
          "output_type": "stream",
          "name": "stdout",
          "text": [
            "Downloading...\n",
            "From: https://drive.google.com/uc?id=11qA2_o3kwRyQhJrfeoJ-jE-uXojXjFpV\n",
            "To: /content/sample.xlsx\n",
            "\r  0% 0.00/442k [00:00<?, ?B/s]\r100% 442k/442k [00:00<00:00, 63.9MB/s]\n"
          ]
        }
      ]
    },
    {
      "cell_type": "code",
      "metadata": {
        "id": "fdzvNWXKYpna"
      },
      "source": [
        "df = pd.read_excel('/content/sample.xlsx', sheet_name='Sheet1').drop('No', axis=1)"
      ],
      "execution_count": null,
      "outputs": []
    },
    {
      "cell_type": "markdown",
      "metadata": {
        "id": "0K-Utz_mhhMV"
      },
      "source": [
        "Let us create features subset and target"
      ]
    },
    {
      "cell_type": "code",
      "metadata": {
        "id": "x4ppNu0MdVH9"
      },
      "source": [
        "X_train = df.drop('target', axis=1)\n",
        "y_train = df[['target']]"
      ],
      "execution_count": null,
      "outputs": []
    },
    {
      "cell_type": "markdown",
      "metadata": {
        "id": "03J3f3phhoPu"
      },
      "source": [
        "Now we can create the lists of numerical columns and categorical features - for our Catboost model"
      ]
    },
    {
      "cell_type": "code",
      "metadata": {
        "id": "GD_XIRzPdxEL"
      },
      "source": [
        "num_features = list(X_train.select_dtypes(include=['int64', 'float64']).columns)\n",
        "cat_features = list(X_train.select_dtypes(exclude=['int64', 'float64']).columns)"
      ],
      "execution_count": null,
      "outputs": []
    },
    {
      "cell_type": "markdown",
      "metadata": {
        "id": "9Bb7TYUrhuLG"
      },
      "source": [
        "We need to fill nans in the categorial feature or cast to string. Let us check nans"
      ]
    },
    {
      "cell_type": "code",
      "metadata": {
        "id": "Ud5lZuHef0i7",
        "colab": {
          "base_uri": "https://localhost:8080/"
        },
        "outputId": "a9c3680d-9a94-40a7-d3b2-5cdf5717f7d3"
      },
      "source": [
        "X_train.isna().mean()"
      ],
      "execution_count": null,
      "outputs": [
        {
          "output_type": "execute_result",
          "data": {
            "text/plain": [
              "predictor 1    0.0000\n",
              "predictor 2    0.0000\n",
              "predictor 3    0.1913\n",
              "predictor 4    0.0000\n",
              "predictor 5    0.0000\n",
              "predictor 6    0.1478\n",
              "predictor 7    0.0000\n",
              "dtype: float64"
            ]
          },
          "metadata": {},
          "execution_count": 11
        }
      ]
    },
    {
      "cell_type": "code",
      "metadata": {
        "colab": {
          "base_uri": "https://localhost:8080/",
          "height": 206
        },
        "id": "1RzRFKzDhmiD",
        "outputId": "6f604693-8577-4294-d87c-6e1c1dfac6c4"
      },
      "source": [
        "X_train.head()"
      ],
      "execution_count": null,
      "outputs": [
        {
          "output_type": "execute_result",
          "data": {
            "text/html": [
              "<div>\n",
              "<style scoped>\n",
              "    .dataframe tbody tr th:only-of-type {\n",
              "        vertical-align: middle;\n",
              "    }\n",
              "\n",
              "    .dataframe tbody tr th {\n",
              "        vertical-align: top;\n",
              "    }\n",
              "\n",
              "    .dataframe thead th {\n",
              "        text-align: right;\n",
              "    }\n",
              "</style>\n",
              "<table border=\"1\" class=\"dataframe\">\n",
              "  <thead>\n",
              "    <tr style=\"text-align: right;\">\n",
              "      <th></th>\n",
              "      <th>predictor 1</th>\n",
              "      <th>predictor 2</th>\n",
              "      <th>predictor 3</th>\n",
              "      <th>predictor 4</th>\n",
              "      <th>predictor 5</th>\n",
              "      <th>predictor 6</th>\n",
              "      <th>predictor 7</th>\n",
              "    </tr>\n",
              "  </thead>\n",
              "  <tbody>\n",
              "    <tr>\n",
              "      <th>0</th>\n",
              "      <td>12423</td>\n",
              "      <td>710</td>\n",
              "      <td>441.5</td>\n",
              "      <td>5</td>\n",
              "      <td>4631.0</td>\n",
              "      <td>D4</td>\n",
              "      <td>B1</td>\n",
              "    </tr>\n",
              "    <tr>\n",
              "      <th>1</th>\n",
              "      <td>13983</td>\n",
              "      <td>1106</td>\n",
              "      <td>NaN</td>\n",
              "      <td>3</td>\n",
              "      <td>4256.0</td>\n",
              "      <td>D5</td>\n",
              "      <td>B1</td>\n",
              "    </tr>\n",
              "    <tr>\n",
              "      <th>2</th>\n",
              "      <td>15520</td>\n",
              "      <td>1276</td>\n",
              "      <td>391.5</td>\n",
              "      <td>1</td>\n",
              "      <td>4397.0</td>\n",
              "      <td>NaN</td>\n",
              "      <td>B1</td>\n",
              "    </tr>\n",
              "    <tr>\n",
              "      <th>3</th>\n",
              "      <td>29535</td>\n",
              "      <td>1106</td>\n",
              "      <td>NaN</td>\n",
              "      <td>1</td>\n",
              "      <td>3772.0</td>\n",
              "      <td>D4</td>\n",
              "      <td>B2</td>\n",
              "    </tr>\n",
              "    <tr>\n",
              "      <th>4</th>\n",
              "      <td>26154</td>\n",
              "      <td>976</td>\n",
              "      <td>315.0</td>\n",
              "      <td>5</td>\n",
              "      <td>2445.0</td>\n",
              "      <td>D3</td>\n",
              "      <td>B1</td>\n",
              "    </tr>\n",
              "  </tbody>\n",
              "</table>\n",
              "</div>"
            ],
            "text/plain": [
              "   predictor 1  predictor 2  predictor 3  ...  predictor 5  predictor 6 predictor 7\n",
              "0        12423          710        441.5  ...       4631.0           D4          B1\n",
              "1        13983         1106          NaN  ...       4256.0           D5          B1\n",
              "2        15520         1276        391.5  ...       4397.0          NaN          B1\n",
              "3        29535         1106          NaN  ...       3772.0           D4          B2\n",
              "4        26154          976        315.0  ...       2445.0           D3          B1\n",
              "\n",
              "[5 rows x 7 columns]"
            ]
          },
          "metadata": {},
          "execution_count": 12
        }
      ]
    },
    {
      "cell_type": "markdown",
      "metadata": {
        "id": "bsXDeW_FiCNT"
      },
      "source": [
        "We will fill Nans with `unknown` feature"
      ]
    },
    {
      "cell_type": "code",
      "metadata": {
        "id": "ky_b1PUIdmBt"
      },
      "source": [
        "X_train['predictor 6'] = X_train['predictor 6'].fillna('unknown')"
      ],
      "execution_count": null,
      "outputs": []
    },
    {
      "cell_type": "code",
      "metadata": {
        "id": "Bjmf2RMXgI7F"
      },
      "source": [
        "cat_features = list(X_train.select_dtypes(exclude=['int64', 'float64']).columns)"
      ],
      "execution_count": null,
      "outputs": []
    },
    {
      "cell_type": "markdown",
      "metadata": {
        "id": "9B8KOyhdiTPM"
      },
      "source": [
        "Ok, now we can find the most strong features for our model. Let us select 4 of them"
      ]
    },
    {
      "cell_type": "code",
      "metadata": {
        "id": "pzNNXj4sZBHu",
        "colab": {
          "base_uri": "https://localhost:8080/"
        },
        "outputId": "59c2bce2-ce29-496a-8301-8936092eba92"
      },
      "source": [
        "# we need to create list of initial columns\n",
        "cols = list(X_train.columns)\n",
        "# then create model\n",
        "estimator = CatBoostClassifier(cat_features=cat_features, verbose=200)\n",
        "# and foinally - we can create our selector\n",
        "selector = FeatureSelectionClf(estimator, n_features_to_select=4, columns=cols)\n",
        "\n",
        "\n",
        "# let us FIT IT!\n",
        "\n",
        "X = selector.fit(X_train, y_train)"
      ],
      "execution_count": null,
      "outputs": [
        {
          "output_type": "stream",
          "name": "stdout",
          "text": [
            "Learning rate set to 0.024355\n",
            "0:\tlearn: 0.6791894\ttotal: 57.7ms\tremaining: 57.7s\n",
            "200:\tlearn: 0.3944485\ttotal: 1.59s\tremaining: 6.34s\n",
            "400:\tlearn: 0.3737448\ttotal: 3.22s\tremaining: 4.8s\n",
            "600:\tlearn: 0.3517206\ttotal: 4.92s\tremaining: 3.26s\n",
            "800:\tlearn: 0.3337889\ttotal: 6.62s\tremaining: 1.65s\n",
            "999:\tlearn: 0.3173535\ttotal: 8.33s\tremaining: 0us\n"
          ]
        }
      ]
    },
    {
      "cell_type": "markdown",
      "metadata": {
        "id": "VgV-BVw5iq17"
      },
      "source": [
        "Greate. Now we can tranform our data and take only 4 columns"
      ]
    },
    {
      "cell_type": "code",
      "metadata": {
        "id": "YXgUasGGZDkq"
      },
      "source": [
        "X = selector.transform(X_train)"
      ],
      "execution_count": null,
      "outputs": []
    },
    {
      "cell_type": "code",
      "metadata": {
        "id": "DdU8czgfgTRa",
        "colab": {
          "base_uri": "https://localhost:8080/",
          "height": 206
        },
        "outputId": "c7d35fc9-43fd-44cd-de76-e112eb152441"
      },
      "source": [
        "X.head()"
      ],
      "execution_count": null,
      "outputs": [
        {
          "output_type": "execute_result",
          "data": {
            "text/html": [
              "<div>\n",
              "<style scoped>\n",
              "    .dataframe tbody tr th:only-of-type {\n",
              "        vertical-align: middle;\n",
              "    }\n",
              "\n",
              "    .dataframe tbody tr th {\n",
              "        vertical-align: top;\n",
              "    }\n",
              "\n",
              "    .dataframe thead th {\n",
              "        text-align: right;\n",
              "    }\n",
              "</style>\n",
              "<table border=\"1\" class=\"dataframe\">\n",
              "  <thead>\n",
              "    <tr style=\"text-align: right;\">\n",
              "      <th></th>\n",
              "      <th>predictor 6</th>\n",
              "      <th>predictor 3</th>\n",
              "      <th>predictor 2</th>\n",
              "      <th>predictor 4</th>\n",
              "    </tr>\n",
              "  </thead>\n",
              "  <tbody>\n",
              "    <tr>\n",
              "      <th>0</th>\n",
              "      <td>D4</td>\n",
              "      <td>441.5</td>\n",
              "      <td>710</td>\n",
              "      <td>5</td>\n",
              "    </tr>\n",
              "    <tr>\n",
              "      <th>1</th>\n",
              "      <td>D5</td>\n",
              "      <td>NaN</td>\n",
              "      <td>1106</td>\n",
              "      <td>3</td>\n",
              "    </tr>\n",
              "    <tr>\n",
              "      <th>2</th>\n",
              "      <td>unknown</td>\n",
              "      <td>391.5</td>\n",
              "      <td>1276</td>\n",
              "      <td>1</td>\n",
              "    </tr>\n",
              "    <tr>\n",
              "      <th>3</th>\n",
              "      <td>D4</td>\n",
              "      <td>NaN</td>\n",
              "      <td>1106</td>\n",
              "      <td>1</td>\n",
              "    </tr>\n",
              "    <tr>\n",
              "      <th>4</th>\n",
              "      <td>D3</td>\n",
              "      <td>315.0</td>\n",
              "      <td>976</td>\n",
              "      <td>5</td>\n",
              "    </tr>\n",
              "  </tbody>\n",
              "</table>\n",
              "</div>"
            ],
            "text/plain": [
              "  predictor 6  predictor 3  predictor 2  predictor 4\n",
              "0          D4        441.5          710            5\n",
              "1          D5          NaN         1106            3\n",
              "2     unknown        391.5         1276            1\n",
              "3          D4          NaN         1106            1\n",
              "4          D3        315.0          976            5"
            ]
          },
          "metadata": {},
          "execution_count": 17
        }
      ]
    },
    {
      "cell_type": "markdown",
      "metadata": {
        "id": "XxWRxqC8izvc"
      },
      "source": [
        "Indexes of the best features"
      ]
    },
    {
      "cell_type": "code",
      "metadata": {
        "id": "QbBJhAPPgeh_",
        "colab": {
          "base_uri": "https://localhost:8080/"
        },
        "outputId": "f27f432a-9223-4fac-88cb-306108222645"
      },
      "source": [
        "selector.get_index()"
      ],
      "execution_count": null,
      "outputs": [
        {
          "output_type": "execute_result",
          "data": {
            "text/plain": [
              "[5, 2, 1, 3]"
            ]
          },
          "metadata": {},
          "execution_count": 18
        }
      ]
    },
    {
      "cell_type": "markdown",
      "metadata": {
        "id": "FiUXsGafi1_g"
      },
      "source": [
        "Shap values:"
      ]
    },
    {
      "cell_type": "code",
      "metadata": {
        "id": "qKZqJWAJghsL",
        "colab": {
          "base_uri": "https://localhost:8080/",
          "height": 303
        },
        "outputId": "460a3713-0572-4659-8adf-f2cd34f69e27"
      },
      "source": [
        "selector.plot_values()"
      ],
      "execution_count": null,
      "outputs": [
        {
          "output_type": "display_data",
          "data": {
            "image/png": "[encoded data removed]",
            "text/plain": [
              "<Figure size 576x309.6 with 2 Axes>"
            ]
          },
          "metadata": {
            "needs_background": "light"
          }
        }
      ]
    },
    {
      "cell_type": "markdown",
      "metadata": {
        "id": "R64Se5Ehi4Fu"
      },
      "source": [
        "And also - you can see the feature importance frame"
      ]
    },
    {
      "cell_type": "code",
      "metadata": {
        "id": "y46rXSQqgjxv",
        "colab": {
          "base_uri": "https://localhost:8080/",
          "height": 268
        },
        "outputId": "2349ce0e-560e-4d85-ec23-1d0a652e8df3"
      },
      "source": [
        "selector.get_feature_importance()"
      ],
      "execution_count": null,
      "outputs": [
        {
          "output_type": "execute_result",
          "data": {
            "text/html": [
              "<div>\n",
              "<style scoped>\n",
              "    .dataframe tbody tr th:only-of-type {\n",
              "        vertical-align: middle;\n",
              "    }\n",
              "\n",
              "    .dataframe tbody tr th {\n",
              "        vertical-align: top;\n",
              "    }\n",
              "\n",
              "    .dataframe thead th {\n",
              "        text-align: right;\n",
              "    }\n",
              "</style>\n",
              "<table border=\"1\" class=\"dataframe\">\n",
              "  <thead>\n",
              "    <tr style=\"text-align: right;\">\n",
              "      <th></th>\n",
              "      <th>col_name</th>\n",
              "      <th>feature_importance_vals</th>\n",
              "    </tr>\n",
              "  </thead>\n",
              "  <tbody>\n",
              "    <tr>\n",
              "      <th>5</th>\n",
              "      <td>predictor 6</td>\n",
              "      <td>0.560596</td>\n",
              "    </tr>\n",
              "    <tr>\n",
              "      <th>2</th>\n",
              "      <td>predictor 3</td>\n",
              "      <td>0.464636</td>\n",
              "    </tr>\n",
              "    <tr>\n",
              "      <th>1</th>\n",
              "      <td>predictor 2</td>\n",
              "      <td>0.463467</td>\n",
              "    </tr>\n",
              "    <tr>\n",
              "      <th>3</th>\n",
              "      <td>predictor 4</td>\n",
              "      <td>0.209312</td>\n",
              "    </tr>\n",
              "    <tr>\n",
              "      <th>0</th>\n",
              "      <td>predictor 1</td>\n",
              "      <td>0.104735</td>\n",
              "    </tr>\n",
              "    <tr>\n",
              "      <th>4</th>\n",
              "      <td>predictor 5</td>\n",
              "      <td>0.094200</td>\n",
              "    </tr>\n",
              "    <tr>\n",
              "      <th>6</th>\n",
              "      <td>predictor 7</td>\n",
              "      <td>0.061994</td>\n",
              "    </tr>\n",
              "  </tbody>\n",
              "</table>\n",
              "</div>"
            ],
            "text/plain": [
              "      col_name  feature_importance_vals\n",
              "5  predictor 6                 0.560596\n",
              "2  predictor 3                 0.464636\n",
              "1  predictor 2                 0.463467\n",
              "3  predictor 4                 0.209312\n",
              "0  predictor 1                 0.104735\n",
              "4  predictor 5                 0.094200\n",
              "6  predictor 7                 0.061994"
            ]
          },
          "metadata": {},
          "execution_count": 20
        }
      ]
    },
    {
      "cell_type": "markdown",
      "metadata": {
        "id": "nJk8-25pi8jM"
      },
      "source": [
        "If you have problems with instalation of shap library - you can take `FeatureSelectionUniversal`, but it only work with feature importance and do not so strong like `shap`"
      ]
    },
    {
      "cell_type": "markdown",
      "metadata": {
        "id": "Yi0td4pjjv9U"
      },
      "source": [
        "Let us check score. On cross validation with full set and selected"
      ]
    },
    {
      "cell_type": "markdown",
      "metadata": {
        "id": "8k8nSyCKj1x-"
      },
      "source": [
        "## Full set"
      ]
    },
    {
      "cell_type": "code",
      "metadata": {
        "id": "53tvI8Nwk8KL"
      },
      "source": [
        "cat_features = list(X_train.select_dtypes(exclude=['int64', 'float64']).columns)"
      ],
      "execution_count": null,
      "outputs": []
    },
    {
      "cell_type": "code",
      "metadata": {
        "colab": {
          "base_uri": "https://localhost:8080/"
        },
        "id": "cR6nFQl6j3Hq",
        "outputId": "39aac981-276b-4811-f955-87bda718ca53"
      },
      "source": [
        "%%time\n",
        "estimator = CatBoostClassifier(cat_features=cat_features, verbose=200)\n",
        "score = cross_validate(estimator, X_train, y_train,\n",
        "                           scoring=['roc_auc', 'accuracy'],\n",
        "                           n_jobs=-1, verbose=0)"
      ],
      "execution_count": null,
      "outputs": [
        {
          "output_type": "stream",
          "name": "stdout",
          "text": [
            "CPU times: user 335 ms, sys: 105 ms, total: 440 ms\n",
            "Wall time: 52.7 s\n"
          ]
        }
      ]
    },
    {
      "cell_type": "code",
      "metadata": {
        "colab": {
          "base_uri": "https://localhost:8080/"
        },
        "id": "heJdWHC6kR6u",
        "outputId": "8f64f967-0636-4c9b-f1fa-5800a2b2f6bc"
      },
      "source": [
        "score['test_roc_auc']"
      ],
      "execution_count": null,
      "outputs": [
        {
          "output_type": "execute_result",
          "data": {
            "text/plain": [
              "array([0.77993512, 0.76461687, 0.76003427, 0.76213721, 0.77352615])"
            ]
          },
          "metadata": {},
          "execution_count": 23
        }
      ]
    },
    {
      "cell_type": "code",
      "metadata": {
        "colab": {
          "base_uri": "https://localhost:8080/"
        },
        "id": "LyPirJ9bkWw2",
        "outputId": "8846f82a-2b38-4aa9-e44b-4c14f35173bd"
      },
      "source": [
        "score['test_accuracy']"
      ],
      "execution_count": null,
      "outputs": [
        {
          "output_type": "execute_result",
          "data": {
            "text/plain": [
              "array([0.8155, 0.818 , 0.8135, 0.8225, 0.8205])"
            ]
          },
          "metadata": {},
          "execution_count": 24
        }
      ]
    },
    {
      "cell_type": "markdown",
      "metadata": {
        "id": "B6S_fZyBkdLh"
      },
      "source": [
        "## Selected set"
      ]
    },
    {
      "cell_type": "code",
      "metadata": {
        "id": "EdMx355HkhFO"
      },
      "source": [
        "cat_features = list(X.select_dtypes(exclude=['int64', 'float64']).columns)"
      ],
      "execution_count": null,
      "outputs": []
    },
    {
      "cell_type": "code",
      "metadata": {
        "colab": {
          "base_uri": "https://localhost:8080/"
        },
        "id": "PN9hUnt1kcjA",
        "outputId": "91d0baaf-7dfe-470c-c28e-ba29aab9dc1f"
      },
      "source": [
        "%%time\n",
        "estimator = CatBoostClassifier(cat_features=cat_features, verbose=200)\n",
        "score = cross_validate(estimator, X, y_train,\n",
        "                           scoring=['roc_auc', 'accuracy'],\n",
        "                           n_jobs=-1, verbose=0)"
      ],
      "execution_count": null,
      "outputs": [
        {
          "output_type": "stream",
          "name": "stdout",
          "text": [
            "CPU times: user 266 ms, sys: 32.9 ms, total: 299 ms\n",
            "Wall time: 45 s\n"
          ]
        }
      ]
    },
    {
      "cell_type": "code",
      "metadata": {
        "colab": {
          "base_uri": "https://localhost:8080/"
        },
        "id": "Q3GdJBr_k-nq",
        "outputId": "592ef5aa-3b03-46f3-93a3-82c437d1a59d"
      },
      "source": [
        "score['test_roc_auc']"
      ],
      "execution_count": null,
      "outputs": [
        {
          "output_type": "execute_result",
          "data": {
            "text/plain": [
              "array([0.74673154, 0.73817593, 0.74207344, 0.74160373, 0.77454504])"
            ]
          },
          "metadata": {},
          "execution_count": 27
        }
      ]
    },
    {
      "cell_type": "code",
      "metadata": {
        "colab": {
          "base_uri": "https://localhost:8080/"
        },
        "id": "X4k9fKXSk_O5",
        "outputId": "598928ae-2622-4d7c-ff48-93ffce3753d7"
      },
      "source": [
        "score['test_accuracy']"
      ],
      "execution_count": null,
      "outputs": [
        {
          "output_type": "execute_result",
          "data": {
            "text/plain": [
              "array([0.808 , 0.81  , 0.815 , 0.8085, 0.8135])"
            ]
          },
          "metadata": {},
          "execution_count": 28
        }
      ]
    },
    {
      "cell_type": "markdown",
      "metadata": {
        "id": "iadJaJHklAcp"
      },
      "source": [
        "with different numbers of predictors - we have approximately the same results"
      ]
    },
    {
      "cell_type": "markdown",
      "metadata": {
        "id": "RcXvpfyYweR9"
      },
      "source": [
        "## DFwrapper - outliers and corr remover"
      ]
    },
    {
      "cell_type": "markdown",
      "metadata": {
        "id": "n_dZsmenwopk"
      },
      "source": [
        "Let us check the data"
      ]
    },
    {
      "cell_type": "code",
      "metadata": {
        "id": "jRDCyMeTwiWY",
        "colab": {
          "base_uri": "https://localhost:8080/",
          "height": 206
        },
        "outputId": "2829af34-3346-45fe-9bc5-355515b0f6ba"
      },
      "source": [
        "X_train.head()"
      ],
      "execution_count": null,
      "outputs": [
        {
          "output_type": "execute_result",
          "data": {
            "text/html": [
              "<div>\n",
              "<style scoped>\n",
              "    .dataframe tbody tr th:only-of-type {\n",
              "        vertical-align: middle;\n",
              "    }\n",
              "\n",
              "    .dataframe tbody tr th {\n",
              "        vertical-align: top;\n",
              "    }\n",
              "\n",
              "    .dataframe thead th {\n",
              "        text-align: right;\n",
              "    }\n",
              "</style>\n",
              "<table border=\"1\" class=\"dataframe\">\n",
              "  <thead>\n",
              "    <tr style=\"text-align: right;\">\n",
              "      <th></th>\n",
              "      <th>predictor 1</th>\n",
              "      <th>predictor 2</th>\n",
              "      <th>predictor 3</th>\n",
              "      <th>predictor 4</th>\n",
              "      <th>predictor 5</th>\n",
              "      <th>predictor 6</th>\n",
              "      <th>predictor 7</th>\n",
              "    </tr>\n",
              "  </thead>\n",
              "  <tbody>\n",
              "    <tr>\n",
              "      <th>0</th>\n",
              "      <td>12423</td>\n",
              "      <td>710</td>\n",
              "      <td>441.5</td>\n",
              "      <td>5</td>\n",
              "      <td>4631.0</td>\n",
              "      <td>D4</td>\n",
              "      <td>B1</td>\n",
              "    </tr>\n",
              "    <tr>\n",
              "      <th>1</th>\n",
              "      <td>13983</td>\n",
              "      <td>1106</td>\n",
              "      <td>NaN</td>\n",
              "      <td>3</td>\n",
              "      <td>4256.0</td>\n",
              "      <td>D5</td>\n",
              "      <td>B1</td>\n",
              "    </tr>\n",
              "    <tr>\n",
              "      <th>2</th>\n",
              "      <td>15520</td>\n",
              "      <td>1276</td>\n",
              "      <td>391.5</td>\n",
              "      <td>1</td>\n",
              "      <td>4397.0</td>\n",
              "      <td>unknown</td>\n",
              "      <td>B1</td>\n",
              "    </tr>\n",
              "    <tr>\n",
              "      <th>3</th>\n",
              "      <td>29535</td>\n",
              "      <td>1106</td>\n",
              "      <td>NaN</td>\n",
              "      <td>1</td>\n",
              "      <td>3772.0</td>\n",
              "      <td>D4</td>\n",
              "      <td>B2</td>\n",
              "    </tr>\n",
              "    <tr>\n",
              "      <th>4</th>\n",
              "      <td>26154</td>\n",
              "      <td>976</td>\n",
              "      <td>315.0</td>\n",
              "      <td>5</td>\n",
              "      <td>2445.0</td>\n",
              "      <td>D3</td>\n",
              "      <td>B1</td>\n",
              "    </tr>\n",
              "  </tbody>\n",
              "</table>\n",
              "</div>"
            ],
            "text/plain": [
              "   predictor 1  predictor 2  predictor 3  ...  predictor 5  predictor 6 predictor 7\n",
              "0        12423          710        441.5  ...       4631.0           D4          B1\n",
              "1        13983         1106          NaN  ...       4256.0           D5          B1\n",
              "2        15520         1276        391.5  ...       4397.0      unknown          B1\n",
              "3        29535         1106          NaN  ...       3772.0           D4          B2\n",
              "4        26154          976        315.0  ...       2445.0           D3          B1\n",
              "\n",
              "[5 rows x 7 columns]"
            ]
          },
          "metadata": {},
          "execution_count": 29
        }
      ]
    },
    {
      "cell_type": "code",
      "metadata": {
        "id": "hCTKQMSmwtLZ",
        "colab": {
          "base_uri": "https://localhost:8080/",
          "height": 335
        },
        "outputId": "62d5c82e-0ee1-41c5-a01f-c376ded32dc8"
      },
      "source": [
        "plt.figure(figsize=(15,5))\n",
        "sns.boxplot(data=df[['predictor 2', 'predictor 3']], linewidth=0.42, palette=\"Set2\", orient='h')\n",
        "plt.title('Boxplot for predictor_2 и _3')\n",
        "plt.show()"
      ],
      "execution_count": null,
      "outputs": [
        {
          "output_type": "display_data",
          "data": {
            "image/png": "[encoded data removed]",
            "text/plain": [
              "<Figure size 1080x360 with 1 Axes>"
            ]
          },
          "metadata": {}
        }
      ]
    },
    {
      "cell_type": "code",
      "metadata": {
        "id": "KwmDrgb68UjL"
      },
      "source": [
        "cols_to_clean = ['predictor 2', 'predictor 3']"
      ],
      "execution_count": null,
      "outputs": []
    },
    {
      "cell_type": "markdown",
      "metadata": {
        "id": "7J0Y2Wv0Adj1"
      },
      "source": [
        "Let us delete outliers"
      ]
    },
    {
      "cell_type": "code",
      "metadata": {
        "id": "TPvMY9X381dq"
      },
      "source": [
        "cleaner = DFwrapper(low=.05, high=.95)\n",
        "cleaned = cleaner.quantile_cleaner(df, cols_to_clean)"
      ],
      "execution_count": null,
      "outputs": []
    },
    {
      "cell_type": "code",
      "metadata": {
        "colab": {
          "base_uri": "https://localhost:8080/",
          "height": 335
        },
        "id": "OrEwoFls82BB",
        "outputId": "3549b2ab-53a2-450a-d87f-d0acfe5ceadb"
      },
      "source": [
        "plt.figure(figsize=(15,5))\n",
        "sns.boxplot(data=cleaned[['predictor 2', 'predictor 3']], linewidth=0.42, palette=\"Set2\", orient='h')\n",
        "plt.title('Boxplot for predictor_2 и _3')\n",
        "plt.show()"
      ],
      "execution_count": null,
      "outputs": [
        {
          "output_type": "display_data",
          "data": {
            "image/png": "[encoded data removed]",
            "text/plain": [
              "<Figure size 1080x360 with 1 Axes>"
            ]
          },
          "metadata": {}
        }
      ]
    },
    {
      "cell_type": "markdown",
      "metadata": {
        "id": "OqhyrY-9AgH1"
      },
      "source": [
        "Another way"
      ]
    },
    {
      "cell_type": "code",
      "metadata": {
        "id": "_qoHfls085lp"
      },
      "source": [
        "cleaner = DFwrapper(koeff=1.5)\n",
        "cleaned = cleaner.frame_irq(df, cols_to_clean)"
      ],
      "execution_count": null,
      "outputs": []
    },
    {
      "cell_type": "code",
      "metadata": {
        "colab": {
          "base_uri": "https://localhost:8080/",
          "height": 335
        },
        "id": "jtQTekmB9SZc",
        "outputId": "013246d5-638c-42b8-d77b-ab536d3eacf3"
      },
      "source": [
        "plt.figure(figsize=(15,5))\n",
        "sns.boxplot(data=cleaned[['predictor 2', 'predictor 3']], linewidth=0.42, palette=\"Set2\", orient='h')\n",
        "plt.title('Boxplot for predictor_2 и _3')\n",
        "plt.show()"
      ],
      "execution_count": null,
      "outputs": [
        {
          "output_type": "display_data",
          "data": {
            "image/png": "[encoded data removed]",
            "text/plain": [
              "<Figure size 1080x360 with 1 Axes>"
            ]
          },
          "metadata": {}
        }
      ]
    },
    {
      "cell_type": "markdown",
      "metadata": {
        "id": "n-b5S8PlAh1i"
      },
      "source": [
        "What about correleation?\n"
      ]
    },
    {
      "cell_type": "code",
      "metadata": {
        "colab": {
          "base_uri": "https://localhost:8080/",
          "height": 318
        },
        "id": "gSXLULGa9UXo",
        "outputId": "196e9cba-eb04-4a8f-93d0-cf1c840c7d06"
      },
      "source": [
        "df.phik_matrix().abs()"
      ],
      "execution_count": null,
      "outputs": [
        {
          "output_type": "stream",
          "name": "stdout",
          "text": [
            "interval columns not set, guessing: ['predictor 1', 'predictor 2', 'predictor 3', 'predictor 4', 'predictor 5', 'target']\n"
          ]
        },
        {
          "output_type": "execute_result",
          "data": {
            "text/html": [
              "<div>\n",
              "<style scoped>\n",
              "    .dataframe tbody tr th:only-of-type {\n",
              "        vertical-align: middle;\n",
              "    }\n",
              "\n",
              "    .dataframe tbody tr th {\n",
              "        vertical-align: top;\n",
              "    }\n",
              "\n",
              "    .dataframe thead th {\n",
              "        text-align: right;\n",
              "    }\n",
              "</style>\n",
              "<table border=\"1\" class=\"dataframe\">\n",
              "  <thead>\n",
              "    <tr style=\"text-align: right;\">\n",
              "      <th></th>\n",
              "      <th>predictor 1</th>\n",
              "      <th>predictor 2</th>\n",
              "      <th>predictor 3</th>\n",
              "      <th>predictor 4</th>\n",
              "      <th>predictor 5</th>\n",
              "      <th>predictor 6</th>\n",
              "      <th>predictor 7</th>\n",
              "      <th>target</th>\n",
              "    </tr>\n",
              "  </thead>\n",
              "  <tbody>\n",
              "    <tr>\n",
              "      <th>predictor 1</th>\n",
              "      <td>1.000000</td>\n",
              "      <td>0.028502</td>\n",
              "      <td>0.018989</td>\n",
              "      <td>0.025862</td>\n",
              "      <td>0.027389</td>\n",
              "      <td>0.000000</td>\n",
              "      <td>0.000000</td>\n",
              "      <td>0.000000</td>\n",
              "    </tr>\n",
              "    <tr>\n",
              "      <th>predictor 2</th>\n",
              "      <td>0.028502</td>\n",
              "      <td>1.000000</td>\n",
              "      <td>0.491745</td>\n",
              "      <td>0.292319</td>\n",
              "      <td>0.000000</td>\n",
              "      <td>0.010465</td>\n",
              "      <td>0.048403</td>\n",
              "      <td>0.336748</td>\n",
              "    </tr>\n",
              "    <tr>\n",
              "      <th>predictor 3</th>\n",
              "      <td>0.018989</td>\n",
              "      <td>0.491745</td>\n",
              "      <td>1.000000</td>\n",
              "      <td>0.263915</td>\n",
              "      <td>0.000000</td>\n",
              "      <td>0.063173</td>\n",
              "      <td>0.000000</td>\n",
              "      <td>0.410803</td>\n",
              "    </tr>\n",
              "    <tr>\n",
              "      <th>predictor 4</th>\n",
              "      <td>0.025862</td>\n",
              "      <td>0.292319</td>\n",
              "      <td>0.263915</td>\n",
              "      <td>1.000000</td>\n",
              "      <td>0.000000</td>\n",
              "      <td>0.019226</td>\n",
              "      <td>0.000000</td>\n",
              "      <td>0.268093</td>\n",
              "    </tr>\n",
              "    <tr>\n",
              "      <th>predictor 5</th>\n",
              "      <td>0.027389</td>\n",
              "      <td>0.000000</td>\n",
              "      <td>0.000000</td>\n",
              "      <td>0.000000</td>\n",
              "      <td>1.000000</td>\n",
              "      <td>0.000000</td>\n",
              "      <td>0.000000</td>\n",
              "      <td>0.000000</td>\n",
              "    </tr>\n",
              "    <tr>\n",
              "      <th>predictor 6</th>\n",
              "      <td>0.000000</td>\n",
              "      <td>0.010465</td>\n",
              "      <td>0.063173</td>\n",
              "      <td>0.019226</td>\n",
              "      <td>0.000000</td>\n",
              "      <td>1.000000</td>\n",
              "      <td>0.077546</td>\n",
              "      <td>0.101715</td>\n",
              "    </tr>\n",
              "    <tr>\n",
              "      <th>predictor 7</th>\n",
              "      <td>0.000000</td>\n",
              "      <td>0.048403</td>\n",
              "      <td>0.000000</td>\n",
              "      <td>0.000000</td>\n",
              "      <td>0.000000</td>\n",
              "      <td>0.077546</td>\n",
              "      <td>1.000000</td>\n",
              "      <td>0.015491</td>\n",
              "    </tr>\n",
              "    <tr>\n",
              "      <th>target</th>\n",
              "      <td>0.000000</td>\n",
              "      <td>0.336748</td>\n",
              "      <td>0.410803</td>\n",
              "      <td>0.268093</td>\n",
              "      <td>0.000000</td>\n",
              "      <td>0.101715</td>\n",
              "      <td>0.015491</td>\n",
              "      <td>1.000000</td>\n",
              "    </tr>\n",
              "  </tbody>\n",
              "</table>\n",
              "</div>"
            ],
            "text/plain": [
              "             predictor 1  predictor 2  ...  predictor 7    target\n",
              "predictor 1     1.000000     0.028502  ...     0.000000  0.000000\n",
              "predictor 2     0.028502     1.000000  ...     0.048403  0.336748\n",
              "predictor 3     0.018989     0.491745  ...     0.000000  0.410803\n",
              "predictor 4     0.025862     0.292319  ...     0.000000  0.268093\n",
              "predictor 5     0.027389     0.000000  ...     0.000000  0.000000\n",
              "predictor 6     0.000000     0.010465  ...     0.077546  0.101715\n",
              "predictor 7     0.000000     0.048403  ...     1.000000  0.015491\n",
              "target          0.000000     0.336748  ...     0.015491  1.000000\n",
              "\n",
              "[8 rows x 8 columns]"
            ]
          },
          "metadata": {},
          "execution_count": 41
        }
      ]
    },
    {
      "cell_type": "markdown",
      "metadata": {
        "id": "7DYuyK7rAlVe"
      },
      "source": [
        "0.4 - it is kust for example. Usuually, you want to delete > 0.8"
      ]
    },
    {
      "cell_type": "code",
      "metadata": {
        "colab": {
          "base_uri": "https://localhost:8080/"
        },
        "id": "QqwuLAeo9Yji",
        "outputId": "d2ba43dc-3343-4b93-b829-7f4a231c3dea"
      },
      "source": [
        "cleaner = DFwrapper(thresh=0.4)\n",
        "new_df = cleaner.wrap_corr(df)"
      ],
      "execution_count": null,
      "outputs": [
        {
          "output_type": "stream",
          "name": "stdout",
          "text": [
            "interval columns not set, guessing: ['predictor 1', 'predictor 2', 'predictor 3', 'predictor 4', 'predictor 5', 'target']\n"
          ]
        }
      ]
    },
    {
      "cell_type": "code",
      "metadata": {
        "colab": {
          "base_uri": "https://localhost:8080/",
          "height": 255
        },
        "id": "YCmlgyKQ9e1B",
        "outputId": "0a1eaf9a-d9f4-4ca2-f883-1a538275aa52"
      },
      "source": [
        "new_df.phik_matrix().abs()"
      ],
      "execution_count": null,
      "outputs": [
        {
          "output_type": "stream",
          "name": "stdout",
          "text": [
            "interval columns not set, guessing: ['predictor 1', 'predictor 2', 'predictor 4', 'predictor 5']\n"
          ]
        },
        {
          "output_type": "execute_result",
          "data": {
            "text/html": [
              "<div>\n",
              "<style scoped>\n",
              "    .dataframe tbody tr th:only-of-type {\n",
              "        vertical-align: middle;\n",
              "    }\n",
              "\n",
              "    .dataframe tbody tr th {\n",
              "        vertical-align: top;\n",
              "    }\n",
              "\n",
              "    .dataframe thead th {\n",
              "        text-align: right;\n",
              "    }\n",
              "</style>\n",
              "<table border=\"1\" class=\"dataframe\">\n",
              "  <thead>\n",
              "    <tr style=\"text-align: right;\">\n",
              "      <th></th>\n",
              "      <th>predictor 1</th>\n",
              "      <th>predictor 2</th>\n",
              "      <th>predictor 4</th>\n",
              "      <th>predictor 5</th>\n",
              "      <th>predictor 6</th>\n",
              "      <th>predictor 7</th>\n",
              "    </tr>\n",
              "  </thead>\n",
              "  <tbody>\n",
              "    <tr>\n",
              "      <th>predictor 1</th>\n",
              "      <td>1.000000</td>\n",
              "      <td>0.028502</td>\n",
              "      <td>0.025862</td>\n",
              "      <td>0.027389</td>\n",
              "      <td>0.000000</td>\n",
              "      <td>0.000000</td>\n",
              "    </tr>\n",
              "    <tr>\n",
              "      <th>predictor 2</th>\n",
              "      <td>0.028502</td>\n",
              "      <td>1.000000</td>\n",
              "      <td>0.292319</td>\n",
              "      <td>0.000000</td>\n",
              "      <td>0.010465</td>\n",
              "      <td>0.048403</td>\n",
              "    </tr>\n",
              "    <tr>\n",
              "      <th>predictor 4</th>\n",
              "      <td>0.025862</td>\n",
              "      <td>0.292319</td>\n",
              "      <td>1.000000</td>\n",
              "      <td>0.000000</td>\n",
              "      <td>0.019226</td>\n",
              "      <td>0.000000</td>\n",
              "    </tr>\n",
              "    <tr>\n",
              "      <th>predictor 5</th>\n",
              "      <td>0.027389</td>\n",
              "      <td>0.000000</td>\n",
              "      <td>0.000000</td>\n",
              "      <td>1.000000</td>\n",
              "      <td>0.000000</td>\n",
              "      <td>0.000000</td>\n",
              "    </tr>\n",
              "    <tr>\n",
              "      <th>predictor 6</th>\n",
              "      <td>0.000000</td>\n",
              "      <td>0.010465</td>\n",
              "      <td>0.019226</td>\n",
              "      <td>0.000000</td>\n",
              "      <td>1.000000</td>\n",
              "      <td>0.077546</td>\n",
              "    </tr>\n",
              "    <tr>\n",
              "      <th>predictor 7</th>\n",
              "      <td>0.000000</td>\n",
              "      <td>0.048403</td>\n",
              "      <td>0.000000</td>\n",
              "      <td>0.000000</td>\n",
              "      <td>0.077546</td>\n",
              "      <td>1.000000</td>\n",
              "    </tr>\n",
              "  </tbody>\n",
              "</table>\n",
              "</div>"
            ],
            "text/plain": [
              "             predictor 1  predictor 2  ...  predictor 6  predictor 7\n",
              "predictor 1     1.000000     0.028502  ...     0.000000     0.000000\n",
              "predictor 2     0.028502     1.000000  ...     0.010465     0.048403\n",
              "predictor 4     0.025862     0.292319  ...     0.019226     0.000000\n",
              "predictor 5     0.027389     0.000000  ...     0.000000     0.000000\n",
              "predictor 6     0.000000     0.010465  ...     1.000000     0.077546\n",
              "predictor 7     0.000000     0.048403  ...     0.077546     1.000000\n",
              "\n",
              "[6 rows x 6 columns]"
            ]
          },
          "metadata": {},
          "execution_count": 48
        }
      ]
    },
    {
      "cell_type": "code",
      "metadata": {
        "id": "t7dJ0bmv92EN"
      },
      "source": [
        ""
      ],
      "execution_count": null,
      "outputs": []
    }
  ]
}