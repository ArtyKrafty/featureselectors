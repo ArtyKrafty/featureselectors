{
  "nbformat": 4,
  "nbformat_minor": 0,
  "metadata": {
    "colab": {
      "name": "Tutorials.ipynb\"",
      "provenance": [],
      "collapsed_sections": []
    },
    "kernelspec": {
      "name": "python3",
      "display_name": "Python 3"
    },
    "language_info": {
      "name": "python"
    }
  },
  "cells": [
    {
      "cell_type": "markdown",
      "metadata": {
        "id": "V16wanFlftL2"
      },
      "source": [
        "ML dataset for classification or regression tasks is comprised of features  of an observation in a problem domain and target\n",
        "\n",
        "The main goal of feature selection refers to techniques that select a subset of the most strong or \"gold\" features in a data. Fewer features can allow ML models to run more efficiently and be more effective and do not be misled by irrelevant input features. It is affect to quality"
      ]
    },
    {
      "cell_type": "markdown",
      "metadata": {
        "id": "emfQy57Dgvab"
      },
      "source": [
        "First, we need to install shap."
      ]
    },
    {
      "cell_type": "code",
      "metadata": {
        "id": "6aCpdnk9cn6U"
      },
      "source": [
        "%%capture\n",
        "!pip install shap"
      ],
      "execution_count": null,
      "outputs": []
    },
    {
      "cell_type": "markdown",
      "metadata": {
        "id": "6ZM-emrSg9Vp"
      },
      "source": [
        "For more efficiency, it is better to use the catboost model - works with NaN, works with categories. "
      ]
    },
    {
      "cell_type": "code",
      "metadata": {
        "id": "tWR-7CNUcpot"
      },
      "source": [
        "%%capture\n",
        "!pip install catboost "
      ],
      "execution_count": null,
      "outputs": []
    },
    {
      "cell_type": "markdown",
      "metadata": {
        "id": "Int5SQvRhG-O"
      },
      "source": [
        "And now, we can install our library:"
      ]
    },
    {
      "cell_type": "code",
      "metadata": {
        "id": "CRIrHMARcr63"
      },
      "source": [
        "%%capture\n",
        "!pip install SHFS"
      ],
      "execution_count": null,
      "outputs": []
    },
    {
      "cell_type": "code",
      "metadata": {
        "id": "rIYvMfd7YgdM"
      },
      "source": [
        "from sklearn.base import BaseEstimator, TransformerMixin\n",
        "from catboost import CatBoostClassifier\n",
        "import pandas as pd\n",
        "import numpy as np\n",
        "from sklearn.metrics import roc_auc_score\n",
        "from sklearn.model_selection import train_test_split, cross_validate\n",
        "import SHFS\n",
        "from SHFS import FeatureSelectionClf"
      ],
      "execution_count": null,
      "outputs": []
    },
    {
      "cell_type": "markdown",
      "metadata": {
        "id": "TGkEToyYhPW7"
      },
      "source": [
        "Check the version"
      ]
    },
    {
      "cell_type": "code",
      "metadata": {
        "colab": {
          "base_uri": "https://localhost:8080/"
        },
        "id": "2mZbODoSu-5n",
        "outputId": "aa92cd40-f39a-4dcc-c3a3-79ea3c0ec0b8"
      },
      "source": [
        "print(SHFS.__version__)"
      ],
      "execution_count": null,
      "outputs": [
        {
          "output_type": "stream",
          "name": "stdout",
          "text": [
            "1.0.1\n"
          ]
        }
      ]
    },
    {
      "cell_type": "markdown",
      "metadata": {
        "id": "AI6G8qIbhRpW"
      },
      "source": [
        "For tutorial, we will use a set of customer data from a bank. Target variable - client default"
      ]
    },
    {
      "cell_type": "code",
      "metadata": {
        "id": "_x_zj3XmYij0",
        "colab": {
          "base_uri": "https://localhost:8080/"
        },
        "outputId": "77544a9e-733b-4696-83b2-45fce449fe8d"
      },
      "source": [
        "!gdown --id 11qA2_o3kwRyQhJrfeoJ-jE-uXojXjFpV"
      ],
      "execution_count": null,
      "outputs": [
        {
          "output_type": "stream",
          "name": "stdout",
          "text": [
            "Downloading...\n",
            "From: https://drive.google.com/uc?id=11qA2_o3kwRyQhJrfeoJ-jE-uXojXjFpV\n",
            "To: /content/sample.xlsx\n",
            "\r  0% 0.00/442k [00:00<?, ?B/s]\r100% 442k/442k [00:00<00:00, 7.01MB/s]\n"
          ]
        }
      ]
    },
    {
      "cell_type": "code",
      "metadata": {
        "id": "fdzvNWXKYpna"
      },
      "source": [
        "df = pd.read_excel('/content/sample.xlsx', sheet_name='Sheet1').drop('No', axis=1)"
      ],
      "execution_count": null,
      "outputs": []
    },
    {
      "cell_type": "markdown",
      "metadata": {
        "id": "0K-Utz_mhhMV"
      },
      "source": [
        "Let us create features subset and target"
      ]
    },
    {
      "cell_type": "code",
      "metadata": {
        "id": "x4ppNu0MdVH9"
      },
      "source": [
        "X_train = df.drop('target', axis=1)\n",
        "y_train = df[['target']]"
      ],
      "execution_count": null,
      "outputs": []
    },
    {
      "cell_type": "markdown",
      "metadata": {
        "id": "03J3f3phhoPu"
      },
      "source": [
        "Now we can create the lists of numerical columns and categorical features - for our Catboost model"
      ]
    },
    {
      "cell_type": "code",
      "metadata": {
        "id": "GD_XIRzPdxEL"
      },
      "source": [
        "num_features = list(X_train.select_dtypes(include=['int64', 'float64']).columns)\n",
        "cat_features = list(X_train.select_dtypes(exclude=['int64', 'float64']).columns)"
      ],
      "execution_count": null,
      "outputs": []
    },
    {
      "cell_type": "markdown",
      "metadata": {
        "id": "9Bb7TYUrhuLG"
      },
      "source": [
        "We need to fill nans in the categorial feature or cast to string. Let us check nans"
      ]
    },
    {
      "cell_type": "code",
      "metadata": {
        "id": "Ud5lZuHef0i7",
        "colab": {
          "base_uri": "https://localhost:8080/"
        },
        "outputId": "775aa778-b70b-488c-f181-01656efc3bc7"
      },
      "source": [
        "X_train.isna().mean()"
      ],
      "execution_count": null,
      "outputs": [
        {
          "output_type": "execute_result",
          "data": {
            "text/plain": [
              "predictor 1    0.0000\n",
              "predictor 2    0.0000\n",
              "predictor 3    0.1913\n",
              "predictor 4    0.0000\n",
              "predictor 5    0.0000\n",
              "predictor 6    0.1478\n",
              "predictor 7    0.0000\n",
              "dtype: float64"
            ]
          },
          "metadata": {},
          "execution_count": 15
        }
      ]
    },
    {
      "cell_type": "code",
      "metadata": {
        "colab": {
          "base_uri": "https://localhost:8080/",
          "height": 206
        },
        "id": "1RzRFKzDhmiD",
        "outputId": "86f7dd6a-6a5c-40e0-f681-aa1570743911"
      },
      "source": [
        "X_train.head()"
      ],
      "execution_count": null,
      "outputs": [
        {
          "output_type": "execute_result",
          "data": {
            "text/html": [
              "<div>\n",
              "<style scoped>\n",
              "    .dataframe tbody tr th:only-of-type {\n",
              "        vertical-align: middle;\n",
              "    }\n",
              "\n",
              "    .dataframe tbody tr th {\n",
              "        vertical-align: top;\n",
              "    }\n",
              "\n",
              "    .dataframe thead th {\n",
              "        text-align: right;\n",
              "    }\n",
              "</style>\n",
              "<table border=\"1\" class=\"dataframe\">\n",
              "  <thead>\n",
              "    <tr style=\"text-align: right;\">\n",
              "      <th></th>\n",
              "      <th>predictor 1</th>\n",
              "      <th>predictor 2</th>\n",
              "      <th>predictor 3</th>\n",
              "      <th>predictor 4</th>\n",
              "      <th>predictor 5</th>\n",
              "      <th>predictor 6</th>\n",
              "      <th>predictor 7</th>\n",
              "    </tr>\n",
              "  </thead>\n",
              "  <tbody>\n",
              "    <tr>\n",
              "      <th>0</th>\n",
              "      <td>12423</td>\n",
              "      <td>710</td>\n",
              "      <td>441.5</td>\n",
              "      <td>5</td>\n",
              "      <td>4631.0</td>\n",
              "      <td>D4</td>\n",
              "      <td>B1</td>\n",
              "    </tr>\n",
              "    <tr>\n",
              "      <th>1</th>\n",
              "      <td>13983</td>\n",
              "      <td>1106</td>\n",
              "      <td>NaN</td>\n",
              "      <td>3</td>\n",
              "      <td>4256.0</td>\n",
              "      <td>D5</td>\n",
              "      <td>B1</td>\n",
              "    </tr>\n",
              "    <tr>\n",
              "      <th>2</th>\n",
              "      <td>15520</td>\n",
              "      <td>1276</td>\n",
              "      <td>391.5</td>\n",
              "      <td>1</td>\n",
              "      <td>4397.0</td>\n",
              "      <td>NaN</td>\n",
              "      <td>B1</td>\n",
              "    </tr>\n",
              "    <tr>\n",
              "      <th>3</th>\n",
              "      <td>29535</td>\n",
              "      <td>1106</td>\n",
              "      <td>NaN</td>\n",
              "      <td>1</td>\n",
              "      <td>3772.0</td>\n",
              "      <td>D4</td>\n",
              "      <td>B2</td>\n",
              "    </tr>\n",
              "    <tr>\n",
              "      <th>4</th>\n",
              "      <td>26154</td>\n",
              "      <td>976</td>\n",
              "      <td>315.0</td>\n",
              "      <td>5</td>\n",
              "      <td>2445.0</td>\n",
              "      <td>D3</td>\n",
              "      <td>B1</td>\n",
              "    </tr>\n",
              "  </tbody>\n",
              "</table>\n",
              "</div>"
            ],
            "text/plain": [
              "   predictor 1  predictor 2  predictor 3  ...  predictor 5  predictor 6 predictor 7\n",
              "0        12423          710        441.5  ...       4631.0           D4          B1\n",
              "1        13983         1106          NaN  ...       4256.0           D5          B1\n",
              "2        15520         1276        391.5  ...       4397.0          NaN          B1\n",
              "3        29535         1106          NaN  ...       3772.0           D4          B2\n",
              "4        26154          976        315.0  ...       2445.0           D3          B1\n",
              "\n",
              "[5 rows x 7 columns]"
            ]
          },
          "metadata": {},
          "execution_count": 16
        }
      ]
    },
    {
      "cell_type": "markdown",
      "metadata": {
        "id": "bsXDeW_FiCNT"
      },
      "source": [
        "We will fill Nans with `unknown` feature"
      ]
    },
    {
      "cell_type": "code",
      "metadata": {
        "id": "ky_b1PUIdmBt"
      },
      "source": [
        "X_train['predictor 6'] = X_train['predictor 6'].fillna('unknown')"
      ],
      "execution_count": null,
      "outputs": []
    },
    {
      "cell_type": "code",
      "metadata": {
        "id": "Bjmf2RMXgI7F"
      },
      "source": [
        "cat_features = list(X_train.select_dtypes(exclude=['int64', 'float64']).columns)"
      ],
      "execution_count": null,
      "outputs": []
    },
    {
      "cell_type": "markdown",
      "metadata": {
        "id": "9B8KOyhdiTPM"
      },
      "source": [
        "Ok, now we can find the most strong features for our model. Let us select 4 of them"
      ]
    },
    {
      "cell_type": "code",
      "metadata": {
        "id": "pzNNXj4sZBHu",
        "colab": {
          "base_uri": "https://localhost:8080/"
        },
        "outputId": "2db123b5-9004-4e55-90f5-d6534b998319"
      },
      "source": [
        "# we need to create list of initial columns\n",
        "cols = list(X_train.columns)\n",
        "# then create model\n",
        "estimator = CatBoostClassifier(cat_features=cat_features, verbose=200)\n",
        "# and foinally - we can create our selector\n",
        "selector = FeatureSelectionClf(estimator, n_features_to_select=4, columns=cols)\n",
        "\n",
        "\n",
        "# let us FIT IT!\n",
        "\n",
        "X = selector.fit(X_train, y_train)"
      ],
      "execution_count": null,
      "outputs": [
        {
          "output_type": "stream",
          "name": "stdout",
          "text": [
            "Learning rate set to 0.024355\n",
            "0:\tlearn: 0.6791894\ttotal: 56.8ms\tremaining: 56.7s\n",
            "200:\tlearn: 0.3944485\ttotal: 1.5s\tremaining: 5.98s\n",
            "400:\tlearn: 0.3737448\ttotal: 2.94s\tremaining: 4.39s\n",
            "600:\tlearn: 0.3517206\ttotal: 4.46s\tremaining: 2.96s\n",
            "800:\tlearn: 0.3337889\ttotal: 5.99s\tremaining: 1.49s\n",
            "999:\tlearn: 0.3173535\ttotal: 7.5s\tremaining: 0us\n"
          ]
        }
      ]
    },
    {
      "cell_type": "markdown",
      "metadata": {
        "id": "VgV-BVw5iq17"
      },
      "source": [
        "Greate. Now we can tranform our data and take only 4 columns"
      ]
    },
    {
      "cell_type": "code",
      "metadata": {
        "id": "YXgUasGGZDkq"
      },
      "source": [
        "X = selector.transform(X_train)"
      ],
      "execution_count": null,
      "outputs": []
    },
    {
      "cell_type": "code",
      "metadata": {
        "id": "DdU8czgfgTRa",
        "colab": {
          "base_uri": "https://localhost:8080/",
          "height": 206
        },
        "outputId": "333e2ef9-995a-41f4-b272-7f22121a0d8d"
      },
      "source": [
        "X.head()"
      ],
      "execution_count": null,
      "outputs": [
        {
          "output_type": "execute_result",
          "data": {
            "text/html": [
              "<div>\n",
              "<style scoped>\n",
              "    .dataframe tbody tr th:only-of-type {\n",
              "        vertical-align: middle;\n",
              "    }\n",
              "\n",
              "    .dataframe tbody tr th {\n",
              "        vertical-align: top;\n",
              "    }\n",
              "\n",
              "    .dataframe thead th {\n",
              "        text-align: right;\n",
              "    }\n",
              "</style>\n",
              "<table border=\"1\" class=\"dataframe\">\n",
              "  <thead>\n",
              "    <tr style=\"text-align: right;\">\n",
              "      <th></th>\n",
              "      <th>predictor 6</th>\n",
              "      <th>predictor 3</th>\n",
              "      <th>predictor 2</th>\n",
              "      <th>predictor 4</th>\n",
              "    </tr>\n",
              "  </thead>\n",
              "  <tbody>\n",
              "    <tr>\n",
              "      <th>0</th>\n",
              "      <td>D4</td>\n",
              "      <td>441.5</td>\n",
              "      <td>710</td>\n",
              "      <td>5</td>\n",
              "    </tr>\n",
              "    <tr>\n",
              "      <th>1</th>\n",
              "      <td>D5</td>\n",
              "      <td>NaN</td>\n",
              "      <td>1106</td>\n",
              "      <td>3</td>\n",
              "    </tr>\n",
              "    <tr>\n",
              "      <th>2</th>\n",
              "      <td>unknown</td>\n",
              "      <td>391.5</td>\n",
              "      <td>1276</td>\n",
              "      <td>1</td>\n",
              "    </tr>\n",
              "    <tr>\n",
              "      <th>3</th>\n",
              "      <td>D4</td>\n",
              "      <td>NaN</td>\n",
              "      <td>1106</td>\n",
              "      <td>1</td>\n",
              "    </tr>\n",
              "    <tr>\n",
              "      <th>4</th>\n",
              "      <td>D3</td>\n",
              "      <td>315.0</td>\n",
              "      <td>976</td>\n",
              "      <td>5</td>\n",
              "    </tr>\n",
              "  </tbody>\n",
              "</table>\n",
              "</div>"
            ],
            "text/plain": [
              "  predictor 6  predictor 3  predictor 2  predictor 4\n",
              "0          D4        441.5          710            5\n",
              "1          D5          NaN         1106            3\n",
              "2     unknown        391.5         1276            1\n",
              "3          D4          NaN         1106            1\n",
              "4          D3        315.0          976            5"
            ]
          },
          "metadata": {},
          "execution_count": 21
        }
      ]
    },
    {
      "cell_type": "markdown",
      "metadata": {
        "id": "XxWRxqC8izvc"
      },
      "source": [
        "Indexes of the best features"
      ]
    },
    {
      "cell_type": "code",
      "metadata": {
        "id": "QbBJhAPPgeh_",
        "colab": {
          "base_uri": "https://localhost:8080/"
        },
        "outputId": "59c97ea4-0c33-43b3-e371-fcd4a76c7cfa"
      },
      "source": [
        "selector.get_index()"
      ],
      "execution_count": null,
      "outputs": [
        {
          "output_type": "execute_result",
          "data": {
            "text/plain": [
              "[5, 2, 1, 3]"
            ]
          },
          "metadata": {},
          "execution_count": 22
        }
      ]
    },
    {
      "cell_type": "markdown",
      "metadata": {
        "id": "FiUXsGafi1_g"
      },
      "source": [
        "Shap values:"
      ]
    },
    {
      "cell_type": "code",
      "metadata": {
        "id": "qKZqJWAJghsL",
        "colab": {
          "base_uri": "https://localhost:8080/",
          "height": 303
        },
        "outputId": "3e315f1b-dcc8-485f-c9f5-d28042e1ff0a"
      },
      "source": [
        "selector.plot_values()"
      ],
      "execution_count": null,
      "outputs": [
        {
          "output_type": "display_data",
          "data": {
            "image/png": "[encoded data removed]",
            "text/plain": [
              "<Figure size 576x309.6 with 2 Axes>"
            ]
          },
          "metadata": {
            "needs_background": "light"
          }
        }
      ]
    },
    {
      "cell_type": "markdown",
      "metadata": {
        "id": "R64Se5Ehi4Fu"
      },
      "source": [
        "And also - you can see the feature importance frame"
      ]
    },
    {
      "cell_type": "code",
      "metadata": {
        "id": "y46rXSQqgjxv",
        "colab": {
          "base_uri": "https://localhost:8080/",
          "height": 268
        },
        "outputId": "8b397186-a8c7-4345-e12b-12068e98cac5"
      },
      "source": [
        "selector.get_feature_importance()"
      ],
      "execution_count": null,
      "outputs": [
        {
          "output_type": "execute_result",
          "data": {
            "text/html": [
              "<div>\n",
              "<style scoped>\n",
              "    .dataframe tbody tr th:only-of-type {\n",
              "        vertical-align: middle;\n",
              "    }\n",
              "\n",
              "    .dataframe tbody tr th {\n",
              "        vertical-align: top;\n",
              "    }\n",
              "\n",
              "    .dataframe thead th {\n",
              "        text-align: right;\n",
              "    }\n",
              "</style>\n",
              "<table border=\"1\" class=\"dataframe\">\n",
              "  <thead>\n",
              "    <tr style=\"text-align: right;\">\n",
              "      <th></th>\n",
              "      <th>col_name</th>\n",
              "      <th>feature_importance_vals</th>\n",
              "    </tr>\n",
              "  </thead>\n",
              "  <tbody>\n",
              "    <tr>\n",
              "      <th>5</th>\n",
              "      <td>predictor 6</td>\n",
              "      <td>0.560596</td>\n",
              "    </tr>\n",
              "    <tr>\n",
              "      <th>2</th>\n",
              "      <td>predictor 3</td>\n",
              "      <td>0.464636</td>\n",
              "    </tr>\n",
              "    <tr>\n",
              "      <th>1</th>\n",
              "      <td>predictor 2</td>\n",
              "      <td>0.463467</td>\n",
              "    </tr>\n",
              "    <tr>\n",
              "      <th>3</th>\n",
              "      <td>predictor 4</td>\n",
              "      <td>0.209312</td>\n",
              "    </tr>\n",
              "    <tr>\n",
              "      <th>0</th>\n",
              "      <td>predictor 1</td>\n",
              "      <td>0.104735</td>\n",
              "    </tr>\n",
              "    <tr>\n",
              "      <th>4</th>\n",
              "      <td>predictor 5</td>\n",
              "      <td>0.094200</td>\n",
              "    </tr>\n",
              "    <tr>\n",
              "      <th>6</th>\n",
              "      <td>predictor 7</td>\n",
              "      <td>0.061994</td>\n",
              "    </tr>\n",
              "  </tbody>\n",
              "</table>\n",
              "</div>"
            ],
            "text/plain": [
              "      col_name  feature_importance_vals\n",
              "5  predictor 6                 0.560596\n",
              "2  predictor 3                 0.464636\n",
              "1  predictor 2                 0.463467\n",
              "3  predictor 4                 0.209312\n",
              "0  predictor 1                 0.104735\n",
              "4  predictor 5                 0.094200\n",
              "6  predictor 7                 0.061994"
            ]
          },
          "metadata": {},
          "execution_count": 24
        }
      ]
    },
    {
      "cell_type": "markdown",
      "metadata": {
        "id": "nJk8-25pi8jM"
      },
      "source": [
        "If you have problems with instalation of shap library - you can take `FeatureSelectionUniversal`, but it only work with feature importance and do not so strong like `shap`"
      ]
    },
    {
      "cell_type": "markdown",
      "metadata": {
        "id": "Yi0td4pjjv9U"
      },
      "source": [
        "Let us check score. On cross validation with full set and selected"
      ]
    },
    {
      "cell_type": "markdown",
      "metadata": {
        "id": "8k8nSyCKj1x-"
      },
      "source": [
        "## Full set"
      ]
    },
    {
      "cell_type": "code",
      "metadata": {
        "id": "53tvI8Nwk8KL"
      },
      "source": [
        "cat_features = list(X_train.select_dtypes(exclude=['int64', 'float64']).columns)"
      ],
      "execution_count": null,
      "outputs": []
    },
    {
      "cell_type": "code",
      "metadata": {
        "colab": {
          "base_uri": "https://localhost:8080/"
        },
        "id": "cR6nFQl6j3Hq",
        "outputId": "e145d542-254f-4f12-c8e1-23d6f2af2f8b"
      },
      "source": [
        "%%time\n",
        "estimator = CatBoostClassifier(cat_features=cat_features, verbose=200)\n",
        "score = cross_validate(estimator, X_train, y_train,\n",
        "                           scoring=['roc_auc', 'accuracy'],\n",
        "                           n_jobs=-1, verbose=0)"
      ],
      "execution_count": null,
      "outputs": [
        {
          "output_type": "stream",
          "name": "stdout",
          "text": [
            "CPU times: user 248 ms, sys: 24.7 ms, total: 273 ms\n",
            "Wall time: 46.1 s\n"
          ]
        }
      ]
    },
    {
      "cell_type": "code",
      "metadata": {
        "colab": {
          "base_uri": "https://localhost:8080/"
        },
        "id": "heJdWHC6kR6u",
        "outputId": "2b1b226a-13e3-45e4-b21f-5942d081b700"
      },
      "source": [
        "score['test_roc_auc']"
      ],
      "execution_count": null,
      "outputs": [
        {
          "output_type": "execute_result",
          "data": {
            "text/plain": [
              "array([0.77993512, 0.76461687, 0.76003427, 0.76213721, 0.77352615])"
            ]
          },
          "metadata": {},
          "execution_count": 36
        }
      ]
    },
    {
      "cell_type": "code",
      "metadata": {
        "colab": {
          "base_uri": "https://localhost:8080/"
        },
        "id": "LyPirJ9bkWw2",
        "outputId": "16cafe3f-d8dd-4822-fad2-b43141b93e50"
      },
      "source": [
        "score['test_accuracy']"
      ],
      "execution_count": null,
      "outputs": [
        {
          "output_type": "execute_result",
          "data": {
            "text/plain": [
              "array([0.8155, 0.818 , 0.8135, 0.8225, 0.8205])"
            ]
          },
          "metadata": {},
          "execution_count": 37
        }
      ]
    },
    {
      "cell_type": "markdown",
      "metadata": {
        "id": "B6S_fZyBkdLh"
      },
      "source": [
        "## Selected set"
      ]
    },
    {
      "cell_type": "code",
      "metadata": {
        "id": "EdMx355HkhFO"
      },
      "source": [
        "cat_features = list(X.select_dtypes(exclude=['int64', 'float64']).columns)"
      ],
      "execution_count": null,
      "outputs": []
    },
    {
      "cell_type": "code",
      "metadata": {
        "colab": {
          "base_uri": "https://localhost:8080/"
        },
        "id": "PN9hUnt1kcjA",
        "outputId": "4ada8f88-aaf8-411a-e411-cc445a63b7fb"
      },
      "source": [
        "%%time\n",
        "estimator = CatBoostClassifier(cat_features=cat_features, verbose=200)\n",
        "score = cross_validate(estimator, X, y_train,\n",
        "                           scoring=['roc_auc', 'accuracy'],\n",
        "                           n_jobs=-1, verbose=0)"
      ],
      "execution_count": null,
      "outputs": [
        {
          "output_type": "stream",
          "name": "stdout",
          "text": [
            "CPU times: user 230 ms, sys: 13 ms, total: 243 ms\n",
            "Wall time: 40.3 s\n"
          ]
        }
      ]
    },
    {
      "cell_type": "code",
      "metadata": {
        "colab": {
          "base_uri": "https://localhost:8080/"
        },
        "id": "Q3GdJBr_k-nq",
        "outputId": "63633a90-a63d-44ba-e979-6c59bce8d2b4"
      },
      "source": [
        "score['test_roc_auc']"
      ],
      "execution_count": null,
      "outputs": [
        {
          "output_type": "execute_result",
          "data": {
            "text/plain": [
              "array([0.74673154, 0.73817593, 0.74207344, 0.74160373, 0.77454504])"
            ]
          },
          "metadata": {},
          "execution_count": 40
        }
      ]
    },
    {
      "cell_type": "code",
      "metadata": {
        "colab": {
          "base_uri": "https://localhost:8080/"
        },
        "id": "X4k9fKXSk_O5",
        "outputId": "b67be693-37fe-42f5-fc5d-8491d06b4443"
      },
      "source": [
        "score['test_accuracy']"
      ],
      "execution_count": null,
      "outputs": [
        {
          "output_type": "execute_result",
          "data": {
            "text/plain": [
              "array([0.808 , 0.81  , 0.815 , 0.8085, 0.8135])"
            ]
          },
          "metadata": {},
          "execution_count": 41
        }
      ]
    },
    {
      "cell_type": "markdown",
      "metadata": {
        "id": "iadJaJHklAcp"
      },
      "source": [
        "with different numbers of predictors - we have approximately the same results"
      ]
    }
  ]
}